{
 "cells": [
  {
   "cell_type": "code",
   "execution_count": 1,
   "id": "00a91783-648a-40ef-9ddc-19de72824555",
   "metadata": {},
   "outputs": [],
   "source": [
    "d='hello guys'"
   ]
  },
  {
   "cell_type": "code",
   "execution_count": 2,
   "id": "3da89fed-95c9-44a8-9b69-fadfa39ad4e6",
   "metadata": {},
   "outputs": [
    {
     "data": {
      "text/plain": [
       "'hello guys'"
      ]
     },
     "execution_count": 2,
     "metadata": {},
     "output_type": "execute_result"
    }
   ],
   "source": [
    "d"
   ]
  },
  {
   "cell_type": "code",
   "execution_count": null,
   "id": "69bf7d71-0bdf-44af-8215-95d561c13e35",
   "metadata": {},
   "outputs": [],
   "source": []
  }
 ],
 "metadata": {
  "kernelspec": {
   "display_name": "Python [conda env:base] *",
   "language": "python",
   "name": "conda-base-py"
  },
  "language_info": {
   "codemirror_mode": {
    "name": "ipython",
    "version": 3
   },
   "file_extension": ".py",
   "mimetype": "text/x-python",
   "name": "python",
   "nbconvert_exporter": "python",
   "pygments_lexer": "ipython3",
   "version": "3.13.5"
  }
 },
 "nbformat": 4,
 "nbformat_minor": 5
}
